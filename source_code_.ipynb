{
  "nbformat": 4,
  "nbformat_minor": 0,
  "metadata": {
    "colab": {
      "provenance": []
    },
    "kernelspec": {
      "name": "python3",
      "display_name": "Python 3"
    },
    "language_info": {
      "name": "python"
    }
  },
  "cells": [
    {
      "cell_type": "code",
      "execution_count": null,
      "metadata": {
        "id": "wGINbCphFdbt"
      },
      "outputs": [],
      "source": [
        "import pandas as pd\n",
        "from sklearn.model_selection import train_test_split\n",
        "from sklearn.preprocessing import StandardScaler\n",
        "from sklearn.linear_model import LinearRegression\n",
        "from sklearn.metrics import mean_squared_error, r2_score\n",
        "!pip install gradio\n",
        "import gradio as gr\n",
        "\n",
        "# Load and prepare the dataset\n",
        "df = pd.read_csv('traffic_accidents_dict new.csv')\n",
        "\n",
        "# Drop unn ecessary columns\n",
        "df_clean = df.drop(columns=['Variable', 'Description'])\n",
        "\n",
        "# Define target and features\n",
        "X = df_clean.drop(columns=['accidents'])\n",
        "y = df_clean['accidents']\n",
        "\n",
        "# Scale the features\n",
        "scaler = StandardScaler()\n",
        "X_scaled = scaler.fit_transform(X)\n",
        "\n",
        "# Split the data\n",
        "X_train, X_test, y_train, y_test = train_test_split(X_scaled, y, test_size=0.2, random_state=42)\n",
        "\n",
        "# Train the model\n",
        "model = LinearRegression()\n",
        "model.fit(X_train, y_train)\n",
        "\n",
        "# Define prediction function\n",
        "def predict_accidents(traffic_fine_amount, traffic_density, traffic_lights,\n",
        "                      pavement_quality, urban_area, average_speed,\n",
        "                      rain_intensity, vehicle_count, time_of_day):\n",
        "    input_data = pd.DataFrame([[\n",
        "        traffic_fine_amount, traffic_density, traffic_lights,\n",
        "        pavement_quality, urban_area, average_speed,\n",
        "        rain_intensity, vehicle_count, time_of_day\n",
        "    ]], columns=X.columns)\n",
        "\n",
        "    input_scaled = scaler.transform(input_data)\n",
        "    prediction = model.predict(input_scaled)\n",
        "    return round(prediction[0], 2)\n",
        "\n",
        "# Create Gradio interface\n",
        "interface = gr.Interface(\n",
        "    fn=predict_accidents,\n",
        "    inputs=[\n",
        "        gr.Number(label='Traffic Fine Amount'),\n",
        "        gr.Number(label='Traffic Density'),\n",
        "        gr.Number(label='Traffic Lights'),\n",
        "        gr.Number(label='Pavement Quality'),\n",
        "        gr.Number(label='Urban Area (1 for Urban, 0 for Rural)'),\n",
        "        gr.Number(label='Average Speed'),\n",
        "        gr.Number(label='Rain Intensity'),\n",
        "        gr.Number(label='Vehicle Count'),\n",
        "        gr.Number(label='Time of Day')\n",
        "    ],\n",
        "    outputs='number',\n",
        "    title='Traffic Accident Prediction',\n",
        "    description='Predict the number of traffic accidents based on various factors.'\n",
        ")\n",
        "\n",
        "interface.launch()"
      ]
    }
  ]
}